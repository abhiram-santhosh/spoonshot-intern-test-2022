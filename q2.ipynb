{
 "cells": [
  {
   "cell_type": "code",
   "execution_count": 6,
   "metadata": {},
   "outputs": [],
   "source": [
    "# The following function takes in an array and returns another array based on\n",
    "# a pattern. Each element of the output array is a product of some of the\n",
    "# elements of the input array. The elements of the input array are chosen\n",
    "# according to combinations of its indices. This function can be generalised\n",
    "# to arrays of any length, since this pattern can be extrapolated.\n",
    "\n",
    "def pattern(list_in):\n",
    "\n",
    "    import numpy as np\n",
    "    from itertools import combinations\n",
    "    \n",
    "    list_out = []\n",
    "    n = len(list_in)\n",
    "    \n",
    "    # Get list of combinations of n indices, taken n-1 at a time\n",
    "    combs = combinations(range(n), n-1)\n",
    "\n",
    "    for comb in list(combs):\n",
    "        prod = np.prod([list_in[i] for i in comb])\n",
    "        list_out.append(prod)\n",
    "\n",
    "    list_out.reverse()        # to match the required order of elements\n",
    "    return list_out"
   ]
  },
  {
   "cell_type": "code",
   "execution_count": 7,
   "metadata": {},
   "outputs": [
    {
     "data": {
      "text/plain": [
       "[8, 40, 10, 20]"
      ]
     },
     "execution_count": 7,
     "metadata": {},
     "output_type": "execute_result"
    }
   ],
   "source": [
    "pattern([5,1,4,2])"
   ]
  },
  {
   "cell_type": "code",
   "execution_count": 8,
   "metadata": {},
   "outputs": [
    {
     "data": {
      "text/plain": [
       "[0, 12, 0, 0]"
      ]
     },
     "execution_count": 8,
     "metadata": {},
     "output_type": "execute_result"
    }
   ],
   "source": [
    "pattern([1,0,3,4])"
   ]
  },
  {
   "cell_type": "code",
   "execution_count": null,
   "metadata": {},
   "outputs": [],
   "source": []
  }
 ],
 "metadata": {
  "kernelspec": {
   "display_name": "Python 3.9.12 ('base')",
   "language": "python",
   "name": "python3"
  },
  "language_info": {
   "codemirror_mode": {
    "name": "ipython",
    "version": 3
   },
   "file_extension": ".py",
   "mimetype": "text/x-python",
   "name": "python",
   "nbconvert_exporter": "python",
   "pygments_lexer": "ipython3",
   "version": "3.9.12"
  },
  "orig_nbformat": 4,
  "vscode": {
   "interpreter": {
    "hash": "c196b8b725141e971bd57537c773674fd26c3c7e34ecb0194807baa2a7146436"
   }
  }
 },
 "nbformat": 4,
 "nbformat_minor": 2
}
